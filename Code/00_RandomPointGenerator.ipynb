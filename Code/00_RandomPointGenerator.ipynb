{
 "cells": [
  {
   "cell_type": "markdown",
   "id": "a3f0c5d6-4d76-4e6c-a2fa-cbb92ce23ef2",
   "metadata": {},
   "source": [
    "# The purpose of this code is to randomly select which points will be used for calibration versus validation"
   ]
  },
  {
   "cell_type": "code",
   "execution_count": 9,
   "id": "e4788af5-f505-4f1d-8fe1-f8c3a64161c3",
   "metadata": {},
   "outputs": [],
   "source": [
    "import pandas as pd\n",
    "from pandas import read_csv\n",
    "from matplotlib import pyplot\n",
    "from pandas.plotting import lag_plot\n",
    "from pandas import DataFrame\n",
    "from pandas import concat\n",
    "from pandas.plotting import autocorrelation_plot\n",
    "from statsmodels.graphics.tsaplots import plot_acf\n",
    "from sklearn.metrics import mean_squared_error\n",
    "from statsmodels.tsa.ar_model import AutoReg\n",
    "from math import sqrt\n",
    "import numpy as np\n",
    "import seaborn as sns\n",
    "import os\n",
    "from datetime import date\n",
    "import rasterio\n",
    "import matplotlib.pyplot as plt\n",
    "from statistics import mean\n",
    "import matplotlib as mpl\n",
    "import random "
   ]
  },
  {
   "cell_type": "code",
   "execution_count": 7,
   "id": "abbe30f1-8686-4d32-8b70-6d45e839bf05",
   "metadata": {},
   "outputs": [],
   "source": [
    "Jan09 = [0.286, 0.263, 0.202, 0.207, 0.317, 0.189, 0.264, 0.294, 0.206, 0.202]"
   ]
  },
  {
   "cell_type": "code",
   "execution_count": 12,
   "id": "1b9b0feb-cbd5-43aa-81da-5f87b7b0bffa",
   "metadata": {},
   "outputs": [
    {
     "data": {
      "text/plain": [
       "[0.206, 0.263, 0.207, 0.206, 0.317]"
      ]
     },
     "execution_count": 12,
     "metadata": {},
     "output_type": "execute_result"
    }
   ],
   "source": [
    "sample_Jan09 = random.choices(Jan09, k=5)\n",
    "sample_Jan09"
   ]
  },
  {
   "cell_type": "code",
   "execution_count": 14,
   "id": "20fc4f92-918d-42e2-ab4e-e92ff52af118",
   "metadata": {},
   "outputs": [
    {
     "name": "stdout",
     "output_type": "stream",
     "text": [
      "0.23979999999999999\n"
     ]
    }
   ],
   "source": [
    "print(mean(sample_Jan09))"
   ]
  },
  {
   "cell_type": "code",
   "execution_count": 31,
   "id": "7720c37f-1385-49bc-8662-80091bece8e9",
   "metadata": {},
   "outputs": [],
   "source": [
    "Feb12 = [0.4,0.32,0.279569892,0.333333333,0.4,0.323232323,0.32,0.29787234,0.340425532,0.353982301,0.32967033]"
   ]
  },
  {
   "cell_type": "code",
   "execution_count": 32,
   "id": "7de3c27c-a669-4c96-9ebc-868557376330",
   "metadata": {},
   "outputs": [
    {
     "data": {
      "text/plain": [
       "[0.353982301, 0.32, 0.4, 0.29787234, 0.32967033]"
      ]
     },
     "execution_count": 32,
     "metadata": {},
     "output_type": "execute_result"
    }
   ],
   "source": [
    "sample_Feb12 = random.sample(Feb12, k=5)\n",
    "sample_Feb12"
   ]
  },
  {
   "cell_type": "code",
   "execution_count": 33,
   "id": "0871d573-85c4-4c34-abcf-e61d10327a5f",
   "metadata": {},
   "outputs": [
    {
     "name": "stdout",
     "output_type": "stream",
     "text": [
      "0.3403049942\n"
     ]
    }
   ],
   "source": [
    "print(mean(sample_Feb12))"
   ]
  },
  {
   "cell_type": "code",
   "execution_count": 18,
   "id": "61f92785-91c3-40b6-8ebc-e0e7cabee407",
   "metadata": {},
   "outputs": [
    {
     "data": {
      "text/plain": [
       "[0.30075188, 0.263888889, 0.30075188, 0.263888889, 0.263888889]"
      ]
     },
     "execution_count": 18,
     "metadata": {},
     "output_type": "execute_result"
    }
   ],
   "source": [
    "Feb18 = [0.263888889,0.30075188,0.180124224]\n",
    "sample_Feb18 = random.choices(Feb18, k=5)\n",
    "sample_Feb18"
   ]
  },
  {
   "cell_type": "code",
   "execution_count": 19,
   "id": "41414ab9-1120-47f4-980a-467c3da55959",
   "metadata": {},
   "outputs": [
    {
     "name": "stdout",
     "output_type": "stream",
     "text": [
      "0.2786340854\n"
     ]
    }
   ],
   "source": [
    "print(mean(sample_Feb18))"
   ]
  },
  {
   "cell_type": "code",
   "execution_count": 41,
   "id": "c2acd000-47d1-4f86-b558-188dad365fa6",
   "metadata": {},
   "outputs": [],
   "source": [
    "Mar25 = [0.277,0.365,0.284,0.273,0.205,0.289,0.224,0.289,0.215,0.281,0.313,0.295,0.347,0.299,0.267]\n",
    "sample_Mar25 = random.sample(Mar25, k=5)"
   ]
  },
  {
   "cell_type": "code",
   "execution_count": 42,
   "id": "3b863f22-219d-4abd-a901-05d76f7e3b99",
   "metadata": {},
   "outputs": [
    {
     "data": {
      "text/plain": [
       "[0.205, 0.313, 0.289, 0.347, 0.215]"
      ]
     },
     "execution_count": 42,
     "metadata": {},
     "output_type": "execute_result"
    }
   ],
   "source": [
    "sample_Mar25"
   ]
  },
  {
   "cell_type": "code",
   "execution_count": 43,
   "id": "d7632475-a372-4b70-a6e9-cef5d4672570",
   "metadata": {},
   "outputs": [
    {
     "name": "stdout",
     "output_type": "stream",
     "text": [
      "0.2738\n"
     ]
    }
   ],
   "source": [
    "print(mean(sample_Mar25))"
   ]
  },
  {
   "cell_type": "code",
   "execution_count": 53,
   "id": "3c62a95e-b85b-419d-8a5b-f4a94a7e397f",
   "metadata": {},
   "outputs": [
    {
     "data": {
      "text/plain": [
       "[0.317757009, 0.363636364, 0.357723577, 0.348993289, 0.368794326]"
      ]
     },
     "execution_count": 53,
     "metadata": {},
     "output_type": "execute_result"
    }
   ],
   "source": [
    "Apr07 = [0.363636364,0.348993289,0.4,0.361111111,0.361702128,0.363636364,0.363636364,0.316455696,0.371794872,\n",
    "         0.368794326,0.362416107,0.357723577,0.317757009,0.388888889,0.347826087]\n",
    "sample_Apr07 = random.sample(Apr07, k=5)\n",
    "sample_Apr07"
   ]
  },
  {
   "cell_type": "code",
   "execution_count": 54,
   "id": "f01d48e5-7360-44a6-839b-b7690420511b",
   "metadata": {},
   "outputs": [
    {
     "name": "stdout",
     "output_type": "stream",
     "text": [
      "0.351380913\n"
     ]
    }
   ],
   "source": [
    "print(mean(sample_Apr07))"
   ]
  },
  {
   "cell_type": "code",
   "execution_count": 55,
   "id": "75492c15-3c09-412b-bcf9-d62c43d6d155",
   "metadata": {},
   "outputs": [
    {
     "data": {
      "text/plain": [
       "[0.434108527, 0.422360248, 0.351351351, 0.395683453, 0.405797101]"
      ]
     },
     "execution_count": 55,
     "metadata": {},
     "output_type": "execute_result"
    }
   ],
   "source": [
    "May05 = [0.402877698,0.351351351,0.434108527,0.405797101,0.42962963,0.395683453,0.384615385,0.407407407,0.422360248,\n",
    "         0.408450704]\n",
    "sample_May05 = random.sample(May05, k=5)\n",
    "sample_May05"
   ]
  },
  {
   "cell_type": "code",
   "execution_count": 56,
   "id": "dac383c4-fe7a-43ce-8619-397a83403274",
   "metadata": {},
   "outputs": [
    {
     "name": "stdout",
     "output_type": "stream",
     "text": [
      "0.401860136\n"
     ]
    }
   ],
   "source": [
    "print(mean(sample_May05))"
   ]
  },
  {
   "cell_type": "code",
   "execution_count": 59,
   "id": "21a24636-08fa-48d7-9c4f-7ee8f05186bd",
   "metadata": {},
   "outputs": [
    {
     "data": {
      "text/plain": [
       "[0.380368098, 0.339393939, 0.350282486, 0.385964912, 0.356643357]"
      ]
     },
     "execution_count": 59,
     "metadata": {},
     "output_type": "execute_result"
    }
   ],
   "source": [
    "May10= [0.385964912,0.372222222,0.380368098,0.356643357,0.350282486,0.354651163,0.360465116,0.339506173,0.339393939,\n",
    "        0.317919075,0.352201258]\n",
    "sample_May10 = random.sample(May10, k=5)\n",
    "sample_May10"
   ]
  },
  {
   "cell_type": "code",
   "execution_count": 60,
   "id": "1686c32e-47a9-4ee5-9fbc-1365c06aecc2",
   "metadata": {},
   "outputs": [
    {
     "name": "stdout",
     "output_type": "stream",
     "text": [
      "0.3625305584\n"
     ]
    }
   ],
   "source": [
    "print(mean(sample_May10))"
   ]
  },
  {
   "cell_type": "code",
   "execution_count": 57,
   "id": "05553031-200f-4bfa-b233-13942d8a1626",
   "metadata": {},
   "outputs": [
    {
     "data": {
      "text/plain": [
       "[0.375796178, 0.437037037, 0.424657534, 0.404255319, 0.413043478]"
      ]
     },
     "execution_count": 57,
     "metadata": {},
     "output_type": "execute_result"
    }
   ],
   "source": [
    "May17 = [0.424657534,0.413043478,0.448818898,0.404255319,0.375796178,0.452054795,0.434482759,0.437037037,0.458333333,\n",
    "         0.42]\n",
    "sample_May17 = random.sample(May17, k=5)\n",
    "sample_May17"
   ]
  },
  {
   "cell_type": "code",
   "execution_count": 58,
   "id": "a93dbc7c-887b-489e-89c3-67901867f309",
   "metadata": {},
   "outputs": [
    {
     "name": "stdout",
     "output_type": "stream",
     "text": [
      "0.4109579092\n"
     ]
    }
   ],
   "source": [
    "print(mean(sample_May17))"
   ]
  },
  {
   "cell_type": "code",
   "execution_count": null,
   "id": "241c5d4a-b37a-4d09-a3bb-631ad1f2dffc",
   "metadata": {},
   "outputs": [],
   "source": []
  }
 ],
 "metadata": {
  "kernelspec": {
   "display_name": "Python 3 (ipykernel)",
   "language": "python",
   "name": "python3"
  },
  "language_info": {
   "codemirror_mode": {
    "name": "ipython",
    "version": 3
   },
   "file_extension": ".py",
   "mimetype": "text/x-python",
   "name": "python",
   "nbconvert_exporter": "python",
   "pygments_lexer": "ipython3",
   "version": "3.11.3"
  }
 },
 "nbformat": 4,
 "nbformat_minor": 5
}
