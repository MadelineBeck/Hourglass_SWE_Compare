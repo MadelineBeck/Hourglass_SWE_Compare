{
 "cells": [
  {
   "cell_type": "code",
   "execution_count": 1,
   "id": "f817bb71-4ec9-44b8-9ca9-c3ff8ad7b251",
   "metadata": {},
   "outputs": [],
   "source": [
    "import pandas as pd\n",
    "from pandas import read_csv\n",
    "from matplotlib import pyplot\n",
    "from pandas.plotting import lag_plot\n",
    "from pandas import DataFrame\n",
    "from pandas import concat\n",
    "from pandas.plotting import autocorrelation_plot\n",
    "from statsmodels.graphics.tsaplots import plot_acf\n",
    "from sklearn.metrics import mean_squared_error\n",
    "from statsmodels.tsa.ar_model import AutoReg\n",
    "from math import sqrt\n",
    "import numpy as np\n",
    "import seaborn as sns\n",
    "import os\n",
    "from datetime import date\n",
    "import glob\n",
    "import scipy\n",
    "from scipy.stats import f_oneway\n",
    "import statsmodels.api as sm\n",
    "from statsmodels.formula.api import ols\n",
    "import matplotlib.pyplot as plt\n",
    "import scipy.stats as stats"
   ]
  },
  {
   "cell_type": "code",
   "execution_count": 2,
   "id": "2e20004b-20d7-452d-b833-ac29c1a24d70",
   "metadata": {},
   "outputs": [],
   "source": [
    "# Change the directory to where the data is stored\n",
    "os.chdir('/Users/f67f911/Desktop/HG2022_Data/Data')"
   ]
  },
  {
   "cell_type": "code",
   "execution_count": 3,
   "id": "53b01471-f2f9-4b56-9684-824bc32d9f04",
   "metadata": {},
   "outputs": [
    {
     "data": {
      "text/plain": [
       "['SWE_Compare/20220212_SWE_Compare.csv',\n",
       " 'SWE_Compare/20220325_SWE_Compare.csv',\n",
       " 'SWE_Compare/20220407_SWE_Compare.csv',\n",
       " 'SWE_Compare/20220505_SWE_Compare.csv',\n",
       " 'SWE_Compare/20220510_SWE_Compare.csv',\n",
       " 'SWE_Compare/20220517_SWE_Compare.csv']"
      ]
     },
     "execution_count": 3,
     "metadata": {},
     "output_type": "execute_result"
    }
   ],
   "source": [
    "# Set the SWE Path, which is the folder within data with the SWE Compare \n",
    "# tables\n",
    "# The SWE Compare tables are created by comparing the measured versus modeled SWE for each collection day\n",
    "# This data should not need to be updated\n",
    "swe_path = 'SWE_Compare'\n",
    "# View all the swe_compare .csv files\n",
    "swe_files = glob.glob(swe_path +'/*.csv')\n",
    "# Sort the files by date\n",
    "swe_files.sort()\n",
    "# View the files to make sure each date is there\n",
    "swe_files"
   ]
  },
  {
   "cell_type": "code",
   "execution_count": 4,
   "id": "f23c0b92-bfe6-4e4f-9412-9b2841d818c0",
   "metadata": {},
   "outputs": [
    {
     "data": {
      "text/html": [
       "<div>\n",
       "<style scoped>\n",
       "    .dataframe tbody tr th:only-of-type {\n",
       "        vertical-align: middle;\n",
       "    }\n",
       "\n",
       "    .dataframe tbody tr th {\n",
       "        vertical-align: top;\n",
       "    }\n",
       "\n",
       "    .dataframe thead th {\n",
       "        text-align: right;\n",
       "    }\n",
       "</style>\n",
       "<table border=\"1\" class=\"dataframe\">\n",
       "  <thead>\n",
       "    <tr style=\"text-align: right;\">\n",
       "      <th></th>\n",
       "      <th>PT#</th>\n",
       "      <th>Sdepth (cm)</th>\n",
       "      <th>CoreDepth (cm)</th>\n",
       "      <th>Weight (g)</th>\n",
       "      <th>Tare Weight (g)</th>\n",
       "      <th>SWE (cm)</th>\n",
       "      <th>SWE (m)</th>\n",
       "      <th>Density (g/cm^3)</th>\n",
       "      <th>Density %</th>\n",
       "      <th>snotel_SWE</th>\n",
       "      <th>deltasnow_SWE</th>\n",
       "      <th>manual_SWE</th>\n",
       "      <th>date</th>\n",
       "      <th>SnowDepth (cm)</th>\n",
       "      <th>Core Depth (cm)</th>\n",
       "      <th>TARE Weight (g)</th>\n",
       "      <th>SWE (mm)</th>\n",
       "      <th>Density (kgm^-3)</th>\n",
       "      <th>datetime</th>\n",
       "    </tr>\n",
       "  </thead>\n",
       "  <tbody>\n",
       "    <tr>\n",
       "      <th>0</th>\n",
       "      <td>1</td>\n",
       "      <td>105.0</td>\n",
       "      <td>112.0</td>\n",
       "      <td>84</td>\n",
       "      <td>42.0</td>\n",
       "      <td>42</td>\n",
       "      <td>0.42</td>\n",
       "      <td>0.400000</td>\n",
       "      <td>40.000000</td>\n",
       "      <td>0.354443</td>\n",
       "      <td>0.353281</td>\n",
       "      <td>NaN</td>\n",
       "      <td>20220212</td>\n",
       "      <td>NaN</td>\n",
       "      <td>NaN</td>\n",
       "      <td>NaN</td>\n",
       "      <td>NaN</td>\n",
       "      <td>NaN</td>\n",
       "      <td>2022-02-12</td>\n",
       "    </tr>\n",
       "    <tr>\n",
       "      <th>1</th>\n",
       "      <td>2</td>\n",
       "      <td>125.0</td>\n",
       "      <td>122.0</td>\n",
       "      <td>82</td>\n",
       "      <td>42.0</td>\n",
       "      <td>40</td>\n",
       "      <td>0.40</td>\n",
       "      <td>0.320000</td>\n",
       "      <td>32.000000</td>\n",
       "      <td>0.247664</td>\n",
       "      <td>0.246852</td>\n",
       "      <td>0.276084</td>\n",
       "      <td>20220212</td>\n",
       "      <td>NaN</td>\n",
       "      <td>NaN</td>\n",
       "      <td>NaN</td>\n",
       "      <td>NaN</td>\n",
       "      <td>NaN</td>\n",
       "      <td>2022-02-12</td>\n",
       "    </tr>\n",
       "    <tr>\n",
       "      <th>2</th>\n",
       "      <td>3</td>\n",
       "      <td>93.0</td>\n",
       "      <td>91.0</td>\n",
       "      <td>68</td>\n",
       "      <td>42.0</td>\n",
       "      <td>26</td>\n",
       "      <td>0.26</td>\n",
       "      <td>0.279570</td>\n",
       "      <td>27.956989</td>\n",
       "      <td>0.234260</td>\n",
       "      <td>0.233492</td>\n",
       "      <td>0.261143</td>\n",
       "      <td>20220212</td>\n",
       "      <td>NaN</td>\n",
       "      <td>NaN</td>\n",
       "      <td>NaN</td>\n",
       "      <td>NaN</td>\n",
       "      <td>NaN</td>\n",
       "      <td>2022-02-12</td>\n",
       "    </tr>\n",
       "    <tr>\n",
       "      <th>3</th>\n",
       "      <td>4</td>\n",
       "      <td>114.0</td>\n",
       "      <td>106.0</td>\n",
       "      <td>80</td>\n",
       "      <td>42.0</td>\n",
       "      <td>38</td>\n",
       "      <td>0.38</td>\n",
       "      <td>0.333333</td>\n",
       "      <td>33.333333</td>\n",
       "      <td>0.336870</td>\n",
       "      <td>0.335766</td>\n",
       "      <td>0.375527</td>\n",
       "      <td>20220212</td>\n",
       "      <td>NaN</td>\n",
       "      <td>NaN</td>\n",
       "      <td>NaN</td>\n",
       "      <td>NaN</td>\n",
       "      <td>NaN</td>\n",
       "      <td>2022-02-12</td>\n",
       "    </tr>\n",
       "    <tr>\n",
       "      <th>4</th>\n",
       "      <td>5</td>\n",
       "      <td>100.0</td>\n",
       "      <td>93.0</td>\n",
       "      <td>82</td>\n",
       "      <td>42.0</td>\n",
       "      <td>40</td>\n",
       "      <td>0.40</td>\n",
       "      <td>0.400000</td>\n",
       "      <td>40.000000</td>\n",
       "      <td>0.137384</td>\n",
       "      <td>0.136934</td>\n",
       "      <td>0.153149</td>\n",
       "      <td>20220212</td>\n",
       "      <td>NaN</td>\n",
       "      <td>NaN</td>\n",
       "      <td>NaN</td>\n",
       "      <td>NaN</td>\n",
       "      <td>NaN</td>\n",
       "      <td>2022-02-12</td>\n",
       "    </tr>\n",
       "  </tbody>\n",
       "</table>\n",
       "</div>"
      ],
      "text/plain": [
       "   PT#  Sdepth (cm)  CoreDepth (cm)  Weight (g)  Tare Weight (g)  SWE (cm)   \n",
       "0    1        105.0           112.0          84             42.0        42  \\\n",
       "1    2        125.0           122.0          82             42.0        40   \n",
       "2    3         93.0            91.0          68             42.0        26   \n",
       "3    4        114.0           106.0          80             42.0        38   \n",
       "4    5        100.0            93.0          82             42.0        40   \n",
       "\n",
       "   SWE (m)  Density (g/cm^3)  Density %  snotel_SWE  deltasnow_SWE   \n",
       "0     0.42          0.400000  40.000000    0.354443       0.353281  \\\n",
       "1     0.40          0.320000  32.000000    0.247664       0.246852   \n",
       "2     0.26          0.279570  27.956989    0.234260       0.233492   \n",
       "3     0.38          0.333333  33.333333    0.336870       0.335766   \n",
       "4     0.40          0.400000  40.000000    0.137384       0.136934   \n",
       "\n",
       "   manual_SWE      date  SnowDepth (cm)  Core Depth (cm)  TARE Weight (g)   \n",
       "0         NaN  20220212             NaN              NaN              NaN  \\\n",
       "1    0.276084  20220212             NaN              NaN              NaN   \n",
       "2    0.261143  20220212             NaN              NaN              NaN   \n",
       "3    0.375527  20220212             NaN              NaN              NaN   \n",
       "4    0.153149  20220212             NaN              NaN              NaN   \n",
       "\n",
       "   SWE (mm)  Density (kgm^-3)   datetime  \n",
       "0       NaN               NaN 2022-02-12  \n",
       "1       NaN               NaN 2022-02-12  \n",
       "2       NaN               NaN 2022-02-12  \n",
       "3       NaN               NaN 2022-02-12  \n",
       "4       NaN               NaN 2022-02-12  "
      ]
     },
     "execution_count": 4,
     "metadata": {},
     "output_type": "execute_result"
    }
   ],
   "source": [
    "# Create an empty list to hold all dataframes for the read in csv files\n",
    "swe_df_holder = []\n",
    "# Create a for loop to cycle through all of the swe_files\n",
    "for j in (swe_files):\n",
    "    # Create a new dataframe for each file\n",
    "    df = pd.read_csv(j)\n",
    "    # Change list of lists to a dataframe\n",
    "    df = pd.DataFrame(df)\n",
    "    # Split the basename of the files to extract the date to add to a column\n",
    "    date = os.path.basename(j)\n",
    "    date = os.path.splitext(date)[0]\n",
    "    date = date.replace('_SWE_Compare', '')\n",
    "    # # Create a new column in the dataframe to hold the date values\n",
    "    df['date'] = date\n",
    "    \n",
    "    # Append the list of df_holder with all of the values for the individual dataframes\n",
    "    swe_df_holder.append(df)\n",
    "    #snotel_df_holder = pd.DataFrame()\n",
    "    swe_df_holder\n",
    "# Create a new dataframe that contains all of the dataframes created in the above loop\n",
    "swe_data_df = pd.concat(swe_df_holder, axis = 0, ignore_index = False, join = 'outer')\n",
    "# Create a new column titled 'Year' to hold the year derived from the datetime column\n",
    "\n",
    "swe_data_df['datetime'] = pd.to_datetime(swe_data_df['date'], format='%Y%m%d')\n",
    "\n",
    "# Check the dataframe to make sure the data has been read in correctly\n",
    "swe_data_df.head()"
   ]
  },
  {
   "cell_type": "code",
   "execution_count": 5,
   "id": "3f0d0652-d591-4f03-82b4-510f2c135a22",
   "metadata": {},
   "outputs": [
    {
     "data": {
      "text/plain": [
       "Index(['PT#', 'Sdepth (cm)', 'CoreDepth (cm)', 'Weight (g)', 'Tare Weight (g)',\n",
       "       'SWE (cm)', 'SWE (m)', 'Density (g/cm^3)', 'Density %', 'snotel_SWE',\n",
       "       'deltasnow_SWE', 'manual_SWE', 'date', 'SnowDepth (cm)',\n",
       "       'Core Depth (cm)', 'TARE Weight (g)', 'SWE (mm)', 'Density (kgm^-3)',\n",
       "       'datetime'],\n",
       "      dtype='object')"
      ]
     },
     "execution_count": 5,
     "metadata": {},
     "output_type": "execute_result"
    }
   ],
   "source": [
    "# View the columns. I tried to ensure that I kept column names constant,\n",
    "# but some of the columns may be slightly different.\n",
    "swe_data_df.columns"
   ]
  },
  {
   "cell_type": "code",
   "execution_count": 6,
   "id": "ed2f8d45-047c-4c37-9fe8-df9d251e7ddb",
   "metadata": {},
   "outputs": [
    {
     "data": {
      "text/html": [
       "<div>\n",
       "<style scoped>\n",
       "    .dataframe tbody tr th:only-of-type {\n",
       "        vertical-align: middle;\n",
       "    }\n",
       "\n",
       "    .dataframe tbody tr th {\n",
       "        vertical-align: top;\n",
       "    }\n",
       "\n",
       "    .dataframe thead th {\n",
       "        text-align: right;\n",
       "    }\n",
       "</style>\n",
       "<table border=\"1\" class=\"dataframe\">\n",
       "  <thead>\n",
       "    <tr style=\"text-align: right;\">\n",
       "      <th></th>\n",
       "      <th>PT#</th>\n",
       "      <th>SWE (m)</th>\n",
       "      <th>Density %</th>\n",
       "      <th>snotel_SWE</th>\n",
       "      <th>deltasnow_SWE</th>\n",
       "      <th>manual_SWE</th>\n",
       "      <th>date</th>\n",
       "      <th>datetime</th>\n",
       "    </tr>\n",
       "  </thead>\n",
       "  <tbody>\n",
       "    <tr>\n",
       "      <th>0</th>\n",
       "      <td>1</td>\n",
       "      <td>0.42</td>\n",
       "      <td>40.000000</td>\n",
       "      <td>0.354443</td>\n",
       "      <td>0.353281</td>\n",
       "      <td>NaN</td>\n",
       "      <td>20220212</td>\n",
       "      <td>2022-02-12</td>\n",
       "    </tr>\n",
       "    <tr>\n",
       "      <th>1</th>\n",
       "      <td>2</td>\n",
       "      <td>0.40</td>\n",
       "      <td>32.000000</td>\n",
       "      <td>0.247664</td>\n",
       "      <td>0.246852</td>\n",
       "      <td>0.276084</td>\n",
       "      <td>20220212</td>\n",
       "      <td>2022-02-12</td>\n",
       "    </tr>\n",
       "    <tr>\n",
       "      <th>2</th>\n",
       "      <td>3</td>\n",
       "      <td>0.26</td>\n",
       "      <td>27.956989</td>\n",
       "      <td>0.234260</td>\n",
       "      <td>0.233492</td>\n",
       "      <td>0.261143</td>\n",
       "      <td>20220212</td>\n",
       "      <td>2022-02-12</td>\n",
       "    </tr>\n",
       "    <tr>\n",
       "      <th>3</th>\n",
       "      <td>4</td>\n",
       "      <td>0.38</td>\n",
       "      <td>33.333333</td>\n",
       "      <td>0.336870</td>\n",
       "      <td>0.335766</td>\n",
       "      <td>0.375527</td>\n",
       "      <td>20220212</td>\n",
       "      <td>2022-02-12</td>\n",
       "    </tr>\n",
       "    <tr>\n",
       "      <th>4</th>\n",
       "      <td>5</td>\n",
       "      <td>0.40</td>\n",
       "      <td>40.000000</td>\n",
       "      <td>0.137384</td>\n",
       "      <td>0.136934</td>\n",
       "      <td>0.153149</td>\n",
       "      <td>20220212</td>\n",
       "      <td>2022-02-12</td>\n",
       "    </tr>\n",
       "  </tbody>\n",
       "</table>\n",
       "</div>"
      ],
      "text/plain": [
       "   PT#  SWE (m)  Density %  snotel_SWE  deltasnow_SWE  manual_SWE      date   \n",
       "0    1     0.42  40.000000    0.354443       0.353281         NaN  20220212  \\\n",
       "1    2     0.40  32.000000    0.247664       0.246852    0.276084  20220212   \n",
       "2    3     0.26  27.956989    0.234260       0.233492    0.261143  20220212   \n",
       "3    4     0.38  33.333333    0.336870       0.335766    0.375527  20220212   \n",
       "4    5     0.40  40.000000    0.137384       0.136934    0.153149  20220212   \n",
       "\n",
       "    datetime  \n",
       "0 2022-02-12  \n",
       "1 2022-02-12  \n",
       "2 2022-02-12  \n",
       "3 2022-02-12  \n",
       "4 2022-02-12  "
      ]
     },
     "execution_count": 6,
     "metadata": {},
     "output_type": "execute_result"
    }
   ],
   "source": [
    "# Drop the unnnecessary data for this visualization\n",
    "swe_data_df = swe_data_df.drop(['SnowDepth (cm)','Core Depth (cm)','Weight (g)',\n",
    "                               'TARE Weight (g)','SWE (cm)','SWE (mm)', 'Density (g/cm^3)',\n",
    "                               'Density (kgm^-3)','Sdepth (cm)', 'CoreDepth (cm)',\n",
    "                               'Tare Weight (g)'],axis = 1)\n",
    "# View the head of the data to make sure only the required columns are included\n",
    "swe_data_df.head()                       "
   ]
  },
  {
   "cell_type": "code",
   "execution_count": 7,
   "id": "871d4608-279f-4021-9ce5-13a8b6356880",
   "metadata": {},
   "outputs": [
    {
     "data": {
      "text/html": [
       "<div>\n",
       "<style scoped>\n",
       "    .dataframe tbody tr th:only-of-type {\n",
       "        vertical-align: middle;\n",
       "    }\n",
       "\n",
       "    .dataframe tbody tr th {\n",
       "        vertical-align: top;\n",
       "    }\n",
       "\n",
       "    .dataframe thead th {\n",
       "        text-align: right;\n",
       "    }\n",
       "</style>\n",
       "<table border=\"1\" class=\"dataframe\">\n",
       "  <thead>\n",
       "    <tr style=\"text-align: right;\">\n",
       "      <th></th>\n",
       "      <th>PT#</th>\n",
       "      <th>SWE (m)</th>\n",
       "      <th>Density %</th>\n",
       "      <th>snotel_SWE</th>\n",
       "      <th>deltasnow_SWE</th>\n",
       "      <th>manual_SWE</th>\n",
       "      <th>date</th>\n",
       "      <th>datetime</th>\n",
       "      <th>date_label</th>\n",
       "    </tr>\n",
       "  </thead>\n",
       "  <tbody>\n",
       "    <tr>\n",
       "      <th>0</th>\n",
       "      <td>1</td>\n",
       "      <td>0.42</td>\n",
       "      <td>40.000000</td>\n",
       "      <td>0.354443</td>\n",
       "      <td>0.353281</td>\n",
       "      <td>NaN</td>\n",
       "      <td>20220212</td>\n",
       "      <td>2022-02-12</td>\n",
       "      <td>Feb 12</td>\n",
       "    </tr>\n",
       "    <tr>\n",
       "      <th>1</th>\n",
       "      <td>2</td>\n",
       "      <td>0.40</td>\n",
       "      <td>32.000000</td>\n",
       "      <td>0.247664</td>\n",
       "      <td>0.246852</td>\n",
       "      <td>0.276084</td>\n",
       "      <td>20220212</td>\n",
       "      <td>2022-02-12</td>\n",
       "      <td>Feb 12</td>\n",
       "    </tr>\n",
       "    <tr>\n",
       "      <th>2</th>\n",
       "      <td>3</td>\n",
       "      <td>0.26</td>\n",
       "      <td>27.956989</td>\n",
       "      <td>0.234260</td>\n",
       "      <td>0.233492</td>\n",
       "      <td>0.261143</td>\n",
       "      <td>20220212</td>\n",
       "      <td>2022-02-12</td>\n",
       "      <td>Feb 12</td>\n",
       "    </tr>\n",
       "    <tr>\n",
       "      <th>3</th>\n",
       "      <td>4</td>\n",
       "      <td>0.38</td>\n",
       "      <td>33.333333</td>\n",
       "      <td>0.336870</td>\n",
       "      <td>0.335766</td>\n",
       "      <td>0.375527</td>\n",
       "      <td>20220212</td>\n",
       "      <td>2022-02-12</td>\n",
       "      <td>Feb 12</td>\n",
       "    </tr>\n",
       "    <tr>\n",
       "      <th>4</th>\n",
       "      <td>5</td>\n",
       "      <td>0.40</td>\n",
       "      <td>40.000000</td>\n",
       "      <td>0.137384</td>\n",
       "      <td>0.136934</td>\n",
       "      <td>0.153149</td>\n",
       "      <td>20220212</td>\n",
       "      <td>2022-02-12</td>\n",
       "      <td>Feb 12</td>\n",
       "    </tr>\n",
       "  </tbody>\n",
       "</table>\n",
       "</div>"
      ],
      "text/plain": [
       "   PT#  SWE (m)  Density %  snotel_SWE  deltasnow_SWE  manual_SWE      date   \n",
       "0    1     0.42  40.000000    0.354443       0.353281         NaN  20220212  \\\n",
       "1    2     0.40  32.000000    0.247664       0.246852    0.276084  20220212   \n",
       "2    3     0.26  27.956989    0.234260       0.233492    0.261143  20220212   \n",
       "3    4     0.38  33.333333    0.336870       0.335766    0.375527  20220212   \n",
       "4    5     0.40  40.000000    0.137384       0.136934    0.153149  20220212   \n",
       "\n",
       "    datetime date_label  \n",
       "0 2022-02-12     Feb 12  \n",
       "1 2022-02-12     Feb 12  \n",
       "2 2022-02-12     Feb 12  \n",
       "3 2022-02-12     Feb 12  \n",
       "4 2022-02-12     Feb 12  "
      ]
     },
     "execution_count": 7,
     "metadata": {},
     "output_type": "execute_result"
    }
   ],
   "source": [
    "# Create a label for the date based on Month (MMM) and Day (DD)\n",
    "swe_data_df['date_label'] = pd.to_datetime(swe_data_df['datetime']).dt.strftime('%b %d')\n",
    "swe_data_df.head()"
   ]
  },
  {
   "cell_type": "code",
   "execution_count": 8,
   "id": "7fae294e-a234-4ca7-bf75-56c5d34b187b",
   "metadata": {},
   "outputs": [
    {
     "data": {
      "image/png": "[encoded data removed]",
      "text/plain": [
       "<Figure size 640x480 with 1 Axes>"
      ]
     },
     "metadata": {},
     "output_type": "display_data"
    }
   ],
   "source": [
    "# Create a boxplot of the manual density measurements for each date\n",
    "sns.boxplot(data=swe_data_df, x=\"date_label\", y=\"Density %\", palette = \"coolwarm\" ).set(title = 'Manual Density Measurements by Date')\n",
    "plt.xlabel('Date')\n",
    "# Save the figure\n",
    "plt.savefig('/Users/f67f911/Desktop/HG2022_Data/Figures/Man_Density_Date.png')"
   ]
  },
  {
   "cell_type": "code",
   "execution_count": 10,
   "id": "10ae10ac-6074-43e3-8083-1bffc830b71b",
   "metadata": {},
   "outputs": [
    {
     "data": {
      "image/png": "[encoded data removed]",
      "text/plain": [
       "<Figure size 640x480 with 1 Axes>"
      ]
     },
     "metadata": {},
     "output_type": "display_data"
    }
   ],
   "source": [
    "# Create the same graph as above, but as a violin plot\n",
    "ax = sns.violinplot(x=\"date_label\", y=\"Density %\", data=swe_data_df,  palette = \"coolwarm\" )\n",
    "plt.ylim(15,55)\n",
    "# Calculate number of obs per group & median to position labels\n",
    "medians = swe_data_df.groupby(['date_label'])['Density %'].median().values\n",
    "nobs = swe_data_df['date_label'].value_counts().values\n",
    "nobs = [str(x) for x in nobs.tolist()]\n",
    "nobs = [\"n: \" + i for i in nobs]\n",
    " \n",
    "# Add the number of observations to the figure\n",
    "pos = range(len(nobs))\n",
    "for tick, label in zip(pos, ax.get_xticklabels()):\n",
    "    ax.text(pos[tick], medians[tick]+ 7, nobs[tick],\n",
    "        horizontalalignment='center',\n",
    "        # verticalalignment = \"center_baseline\",\n",
    "        size='medium',\n",
    "        color='black',\n",
    "        weight='bold')\n",
    "# Make sure the plot starts at 0,0\n",
    "sns.despine()\n",
    "ax.set(title = 'Manual Density Measurements by Date')\n",
    "plt.xlabel('Date')\n",
    "# Save\n",
    "plt.savefig('/Users/f67f911/Desktop/HG2022_Data/Figures/Man_Density_Date.png')"
   ]
  },
  {
   "cell_type": "code",
   "execution_count": 11,
   "id": "18af7132-86e1-429e-9bb7-78a966a8b7cd",
   "metadata": {},
   "outputs": [
    {
     "data": {
      "text/html": [
       "<div>\n",
       "<style scoped>\n",
       "    .dataframe tbody tr th:only-of-type {\n",
       "        vertical-align: middle;\n",
       "    }\n",
       "\n",
       "    .dataframe tbody tr th {\n",
       "        vertical-align: top;\n",
       "    }\n",
       "\n",
       "    .dataframe thead th {\n",
       "        text-align: right;\n",
       "    }\n",
       "</style>\n",
       "<table border=\"1\" class=\"dataframe\">\n",
       "  <thead>\n",
       "    <tr style=\"text-align: right;\">\n",
       "      <th></th>\n",
       "      <th>PT#</th>\n",
       "      <th>SWE (m)</th>\n",
       "      <th>Density %</th>\n",
       "      <th>snotel_SWE</th>\n",
       "      <th>deltasnow_SWE</th>\n",
       "      <th>manual_SWE</th>\n",
       "      <th>date</th>\n",
       "      <th>datetime</th>\n",
       "      <th>date_label</th>\n",
       "      <th>SNOTEL Diff</th>\n",
       "      <th>$\\Delta$SNOW Diff</th>\n",
       "      <th>Manual Diff</th>\n",
       "    </tr>\n",
       "  </thead>\n",
       "  <tbody>\n",
       "    <tr>\n",
       "      <th>0</th>\n",
       "      <td>1</td>\n",
       "      <td>0.42</td>\n",
       "      <td>40.000000</td>\n",
       "      <td>0.354443</td>\n",
       "      <td>0.353281</td>\n",
       "      <td>NaN</td>\n",
       "      <td>20220212</td>\n",
       "      <td>2022-02-12</td>\n",
       "      <td>Feb 12</td>\n",
       "      <td>-0.065557</td>\n",
       "      <td>-0.066719</td>\n",
       "      <td>NaN</td>\n",
       "    </tr>\n",
       "    <tr>\n",
       "      <th>1</th>\n",
       "      <td>2</td>\n",
       "      <td>0.40</td>\n",
       "      <td>32.000000</td>\n",
       "      <td>0.247664</td>\n",
       "      <td>0.246852</td>\n",
       "      <td>0.276084</td>\n",
       "      <td>20220212</td>\n",
       "      <td>2022-02-12</td>\n",
       "      <td>Feb 12</td>\n",
       "      <td>-0.152336</td>\n",
       "      <td>-0.153148</td>\n",
       "      <td>-0.123916</td>\n",
       "    </tr>\n",
       "    <tr>\n",
       "      <th>2</th>\n",
       "      <td>3</td>\n",
       "      <td>0.26</td>\n",
       "      <td>27.956989</td>\n",
       "      <td>0.234260</td>\n",
       "      <td>0.233492</td>\n",
       "      <td>0.261143</td>\n",
       "      <td>20220212</td>\n",
       "      <td>2022-02-12</td>\n",
       "      <td>Feb 12</td>\n",
       "      <td>-0.025740</td>\n",
       "      <td>-0.026508</td>\n",
       "      <td>0.001143</td>\n",
       "    </tr>\n",
       "    <tr>\n",
       "      <th>3</th>\n",
       "      <td>4</td>\n",
       "      <td>0.38</td>\n",
       "      <td>33.333333</td>\n",
       "      <td>0.336870</td>\n",
       "      <td>0.335766</td>\n",
       "      <td>0.375527</td>\n",
       "      <td>20220212</td>\n",
       "      <td>2022-02-12</td>\n",
       "      <td>Feb 12</td>\n",
       "      <td>-0.043130</td>\n",
       "      <td>-0.044234</td>\n",
       "      <td>-0.004473</td>\n",
       "    </tr>\n",
       "    <tr>\n",
       "      <th>4</th>\n",
       "      <td>5</td>\n",
       "      <td>0.40</td>\n",
       "      <td>40.000000</td>\n",
       "      <td>0.137384</td>\n",
       "      <td>0.136934</td>\n",
       "      <td>0.153149</td>\n",
       "      <td>20220212</td>\n",
       "      <td>2022-02-12</td>\n",
       "      <td>Feb 12</td>\n",
       "      <td>-0.262616</td>\n",
       "      <td>-0.263066</td>\n",
       "      <td>-0.246851</td>\n",
       "    </tr>\n",
       "  </tbody>\n",
       "</table>\n",
       "</div>"
      ],
      "text/plain": [
       "   PT#  SWE (m)  Density %  snotel_SWE  deltasnow_SWE  manual_SWE      date   \n",
       "0    1     0.42  40.000000    0.354443       0.353281         NaN  20220212  \\\n",
       "1    2     0.40  32.000000    0.247664       0.246852    0.276084  20220212   \n",
       "2    3     0.26  27.956989    0.234260       0.233492    0.261143  20220212   \n",
       "3    4     0.38  33.333333    0.336870       0.335766    0.375527  20220212   \n",
       "4    5     0.40  40.000000    0.137384       0.136934    0.153149  20220212   \n",
       "\n",
       "    datetime date_label  SNOTEL Diff  $\\Delta$SNOW Diff  Manual Diff  \n",
       "0 2022-02-12     Feb 12    -0.065557          -0.066719          NaN  \n",
       "1 2022-02-12     Feb 12    -0.152336          -0.153148    -0.123916  \n",
       "2 2022-02-12     Feb 12    -0.025740          -0.026508     0.001143  \n",
       "3 2022-02-12     Feb 12    -0.043130          -0.044234    -0.004473  \n",
       "4 2022-02-12     Feb 12    -0.262616          -0.263066    -0.246851  "
      ]
     },
     "execution_count": 11,
     "metadata": {},
     "output_type": "execute_result"
    }
   ],
   "source": [
    "# Calculate the differences between the manually surveyed SWE and the modeled\n",
    "# SWE for each of the processing models\n",
    "swe_data_df['SNOTEL Diff'] = swe_data_df['snotel_SWE'] - swe_data_df['SWE (m)']\n",
    "swe_data_df[r'$\\Delta$SNOW Diff'] = swe_data_df['deltasnow_SWE'] - swe_data_df['SWE (m)']\n",
    "swe_data_df['Manual Diff'] = swe_data_df['manual_SWE'] - swe_data_df['SWE (m)']\n",
    "# Make sure the new columns populated correctly\n",
    "swe_data_df.head()"
   ]
  },
  {
   "cell_type": "code",
   "execution_count": 12,
   "id": "d6687807-0309-4819-8311-d46dac98ccab",
   "metadata": {},
   "outputs": [
    {
     "data": {
      "text/plain": [
       "(0.02497668571428571, -0.0040454285714285766, -0.013855166666666672)"
      ]
     },
     "execution_count": 12,
     "metadata": {},
     "output_type": "execute_result"
    }
   ],
   "source": [
    "# Find the mean of the differences for each of the modeling approaches\n",
    "(np.mean(swe_data_df['SNOTEL Diff']),np.mean(swe_data_df[r'$\\Delta$SNOW Diff']),np.mean(swe_data_df['Manual Diff']))"
   ]
  },
  {
   "cell_type": "code",
   "execution_count": 14,
   "id": "6117a852-fdef-4c42-8880-9e24f2b316cb",
   "metadata": {},
   "outputs": [
    {
     "data": {
      "text/html": [
       "<div>\n",
       "<style scoped>\n",
       "    .dataframe tbody tr th:only-of-type {\n",
       "        vertical-align: middle;\n",
       "    }\n",
       "\n",
       "    .dataframe tbody tr th {\n",
       "        vertical-align: top;\n",
       "    }\n",
       "\n",
       "    .dataframe thead th {\n",
       "        text-align: right;\n",
       "    }\n",
       "</style>\n",
       "<table border=\"1\" class=\"dataframe\">\n",
       "  <thead>\n",
       "    <tr style=\"text-align: right;\">\n",
       "      <th></th>\n",
       "      <th>PT#</th>\n",
       "      <th>SWE (m)</th>\n",
       "      <th>Density %</th>\n",
       "      <th>snotel_SWE</th>\n",
       "      <th>deltasnow_SWE</th>\n",
       "      <th>manual_SWE</th>\n",
       "      <th>date</th>\n",
       "      <th>datetime</th>\n",
       "      <th>date_label</th>\n",
       "      <th>SNOTEL Diff</th>\n",
       "      <th>$\\Delta$SNOW Diff</th>\n",
       "      <th>Manual Diff</th>\n",
       "    </tr>\n",
       "  </thead>\n",
       "  <tbody>\n",
       "    <tr>\n",
       "      <th>0</th>\n",
       "      <td>1</td>\n",
       "      <td>0.36</td>\n",
       "      <td>27.7</td>\n",
       "      <td>0.646594</td>\n",
       "      <td>0.594867</td>\n",
       "      <td>0.506191</td>\n",
       "      <td>20220325</td>\n",
       "      <td>2022-03-25</td>\n",
       "      <td>Mar 25</td>\n",
       "      <td>0.286594</td>\n",
       "      <td>0.234867</td>\n",
       "      <td>0.146191</td>\n",
       "    </tr>\n",
       "    <tr>\n",
       "      <th>1</th>\n",
       "      <td>2</td>\n",
       "      <td>0.50</td>\n",
       "      <td>36.5</td>\n",
       "      <td>0.819372</td>\n",
       "      <td>0.753823</td>\n",
       "      <td>0.641452</td>\n",
       "      <td>20220325</td>\n",
       "      <td>2022-03-25</td>\n",
       "      <td>Mar 25</td>\n",
       "      <td>0.319372</td>\n",
       "      <td>0.253823</td>\n",
       "      <td>0.141452</td>\n",
       "    </tr>\n",
       "    <tr>\n",
       "      <th>2</th>\n",
       "      <td>3</td>\n",
       "      <td>0.38</td>\n",
       "      <td>28.4</td>\n",
       "      <td>0.934558</td>\n",
       "      <td>0.859793</td>\n",
       "      <td>0.731625</td>\n",
       "      <td>20220325</td>\n",
       "      <td>2022-03-25</td>\n",
       "      <td>Mar 25</td>\n",
       "      <td>0.554558</td>\n",
       "      <td>0.479793</td>\n",
       "      <td>0.351625</td>\n",
       "    </tr>\n",
       "    <tr>\n",
       "      <th>3</th>\n",
       "      <td>4</td>\n",
       "      <td>0.36</td>\n",
       "      <td>27.3</td>\n",
       "      <td>0.995740</td>\n",
       "      <td>0.916080</td>\n",
       "      <td>0.779522</td>\n",
       "      <td>20220325</td>\n",
       "      <td>2022-03-25</td>\n",
       "      <td>Mar 25</td>\n",
       "      <td>0.635740</td>\n",
       "      <td>0.556080</td>\n",
       "      <td>0.419522</td>\n",
       "    </tr>\n",
       "    <tr>\n",
       "      <th>4</th>\n",
       "      <td>5</td>\n",
       "      <td>0.26</td>\n",
       "      <td>20.5</td>\n",
       "      <td>0.958569</td>\n",
       "      <td>0.881884</td>\n",
       "      <td>NaN</td>\n",
       "      <td>20220325</td>\n",
       "      <td>2022-03-25</td>\n",
       "      <td>Mar 25</td>\n",
       "      <td>0.698569</td>\n",
       "      <td>0.621884</td>\n",
       "      <td>NaN</td>\n",
       "    </tr>\n",
       "  </tbody>\n",
       "</table>\n",
       "</div>"
      ],
      "text/plain": [
       "   PT#  SWE (m)  Density %  snotel_SWE  deltasnow_SWE  manual_SWE      date   \n",
       "0    1     0.36       27.7    0.646594       0.594867    0.506191  20220325  \\\n",
       "1    2     0.50       36.5    0.819372       0.753823    0.641452  20220325   \n",
       "2    3     0.38       28.4    0.934558       0.859793    0.731625  20220325   \n",
       "3    4     0.36       27.3    0.995740       0.916080    0.779522  20220325   \n",
       "4    5     0.26       20.5    0.958569       0.881884         NaN  20220325   \n",
       "\n",
       "    datetime date_label  SNOTEL Diff  $\\Delta$SNOW Diff  Manual Diff  \n",
       "0 2022-03-25     Mar 25     0.286594           0.234867     0.146191  \n",
       "1 2022-03-25     Mar 25     0.319372           0.253823     0.141452  \n",
       "2 2022-03-25     Mar 25     0.554558           0.479793     0.351625  \n",
       "3 2022-03-25     Mar 25     0.635740           0.556080     0.419522  \n",
       "4 2022-03-25     Mar 25     0.698569           0.621884          NaN  "
      ]
     },
     "execution_count": 14,
     "metadata": {},
     "output_type": "execute_result"
    }
   ],
   "source": [
    "# view the March 25 data\n",
    "march = swe_data_df.loc[swe_data_df['date'] == '20220325']\n",
    "march.head()"
   ]
  },
  {
   "cell_type": "code",
   "execution_count": 15,
   "id": "d0f46d31-1b08-42e3-9100-f7ea3ef002b7",
   "metadata": {},
   "outputs": [
    {
     "data": {
      "text/html": [
       "<div>\n",
       "<style scoped>\n",
       "    .dataframe tbody tr th:only-of-type {\n",
       "        vertical-align: middle;\n",
       "    }\n",
       "\n",
       "    .dataframe tbody tr th {\n",
       "        vertical-align: top;\n",
       "    }\n",
       "\n",
       "    .dataframe thead th {\n",
       "        text-align: right;\n",
       "    }\n",
       "</style>\n",
       "<table border=\"1\" class=\"dataframe\">\n",
       "  <thead>\n",
       "    <tr style=\"text-align: right;\">\n",
       "      <th></th>\n",
       "      <th>PT#</th>\n",
       "      <th>SWE (m)</th>\n",
       "      <th>Density %</th>\n",
       "      <th>snotel_SWE</th>\n",
       "      <th>deltasnow_SWE</th>\n",
       "      <th>manual_SWE</th>\n",
       "      <th>date</th>\n",
       "      <th>datetime</th>\n",
       "      <th>date_label</th>\n",
       "      <th>SNOTEL Diff</th>\n",
       "      <th>$\\Delta$SNOW Diff</th>\n",
       "      <th>Manual Diff</th>\n",
       "    </tr>\n",
       "  </thead>\n",
       "  <tbody>\n",
       "    <tr>\n",
       "      <th>0</th>\n",
       "      <td>1</td>\n",
       "      <td>0.42</td>\n",
       "      <td>40.000000</td>\n",
       "      <td>0.354443</td>\n",
       "      <td>0.353281</td>\n",
       "      <td>NaN</td>\n",
       "      <td>20220212</td>\n",
       "      <td>2022-02-12</td>\n",
       "      <td>Feb 12</td>\n",
       "      <td>-0.065557</td>\n",
       "      <td>-0.066719</td>\n",
       "      <td>NaN</td>\n",
       "    </tr>\n",
       "    <tr>\n",
       "      <th>1</th>\n",
       "      <td>2</td>\n",
       "      <td>0.40</td>\n",
       "      <td>32.000000</td>\n",
       "      <td>0.247664</td>\n",
       "      <td>0.246852</td>\n",
       "      <td>0.276084</td>\n",
       "      <td>20220212</td>\n",
       "      <td>2022-02-12</td>\n",
       "      <td>Feb 12</td>\n",
       "      <td>-0.152336</td>\n",
       "      <td>-0.153148</td>\n",
       "      <td>-0.123916</td>\n",
       "    </tr>\n",
       "    <tr>\n",
       "      <th>2</th>\n",
       "      <td>3</td>\n",
       "      <td>0.26</td>\n",
       "      <td>27.956989</td>\n",
       "      <td>0.234260</td>\n",
       "      <td>0.233492</td>\n",
       "      <td>0.261143</td>\n",
       "      <td>20220212</td>\n",
       "      <td>2022-02-12</td>\n",
       "      <td>Feb 12</td>\n",
       "      <td>-0.025740</td>\n",
       "      <td>-0.026508</td>\n",
       "      <td>0.001143</td>\n",
       "    </tr>\n",
       "    <tr>\n",
       "      <th>3</th>\n",
       "      <td>4</td>\n",
       "      <td>0.38</td>\n",
       "      <td>33.333333</td>\n",
       "      <td>0.336870</td>\n",
       "      <td>0.335766</td>\n",
       "      <td>0.375527</td>\n",
       "      <td>20220212</td>\n",
       "      <td>2022-02-12</td>\n",
       "      <td>Feb 12</td>\n",
       "      <td>-0.043130</td>\n",
       "      <td>-0.044234</td>\n",
       "      <td>-0.004473</td>\n",
       "    </tr>\n",
       "    <tr>\n",
       "      <th>4</th>\n",
       "      <td>5</td>\n",
       "      <td>0.40</td>\n",
       "      <td>40.000000</td>\n",
       "      <td>0.137384</td>\n",
       "      <td>0.136934</td>\n",
       "      <td>0.153149</td>\n",
       "      <td>20220212</td>\n",
       "      <td>2022-02-12</td>\n",
       "      <td>Feb 12</td>\n",
       "      <td>-0.262616</td>\n",
       "      <td>-0.263066</td>\n",
       "      <td>-0.246851</td>\n",
       "    </tr>\n",
       "  </tbody>\n",
       "</table>\n",
       "</div>"
      ],
      "text/plain": [
       "   PT#  SWE (m)  Density %  snotel_SWE  deltasnow_SWE  manual_SWE      date   \n",
       "0    1     0.42  40.000000    0.354443       0.353281         NaN  20220212  \\\n",
       "1    2     0.40  32.000000    0.247664       0.246852    0.276084  20220212   \n",
       "2    3     0.26  27.956989    0.234260       0.233492    0.261143  20220212   \n",
       "3    4     0.38  33.333333    0.336870       0.335766    0.375527  20220212   \n",
       "4    5     0.40  40.000000    0.137384       0.136934    0.153149  20220212   \n",
       "\n",
       "    datetime date_label  SNOTEL Diff  $\\Delta$SNOW Diff  Manual Diff  \n",
       "0 2022-02-12     Feb 12    -0.065557          -0.066719          NaN  \n",
       "1 2022-02-12     Feb 12    -0.152336          -0.153148    -0.123916  \n",
       "2 2022-02-12     Feb 12    -0.025740          -0.026508     0.001143  \n",
       "3 2022-02-12     Feb 12    -0.043130          -0.044234    -0.004473  \n",
       "4 2022-02-12     Feb 12    -0.262616          -0.263066    -0.246851  "
      ]
     },
     "execution_count": 15,
     "metadata": {},
     "output_type": "execute_result"
    }
   ],
   "source": [
    "# Create a new dataframe with the dropped March 25 data\n",
    "march_dropped = swe_data_df.loc[swe_data_df['date'] != '20220325']\n",
    "march_dropped.head()"
   ]
  },
  {
   "cell_type": "code",
   "execution_count": 16,
   "id": "4a2855f8-1fef-45ae-831e-139c1aa155e8",
   "metadata": {},
   "outputs": [
    {
     "data": {
      "text/plain": [
       "(0.48758726666666674, 0.4178072666666667, 0.2856613)"
      ]
     },
     "execution_count": 16,
     "metadata": {},
     "output_type": "execute_result"
    }
   ],
   "source": [
    "# View the mean difference value for the March data\n",
    "(np.mean(march['SNOTEL Diff']),np.mean(march[r'$\\Delta$SNOW Diff']),np.mean(march['Manual Diff']))"
   ]
  },
  {
   "cell_type": "code",
   "execution_count": 17,
   "id": "d4527689-baf6-4afa-90c8-e69b10f4fc93",
   "metadata": {},
   "outputs": [
    {
     "data": {
      "text/plain": [
       "(-0.10118983636363638, -0.11909616363636366, -0.10745406250000002)"
      ]
     },
     "execution_count": 17,
     "metadata": {},
     "output_type": "execute_result"
    }
   ],
   "source": [
    "# View that same mean difference for when March 25 is dropped \n",
    "(np.mean(march_dropped['SNOTEL Diff']),np.mean(march_dropped[r'$\\Delta$SNOW Diff']),np.mean(march_dropped['Manual Diff']))"
   ]
  },
  {
   "cell_type": "code",
   "execution_count": 19,
   "id": "e5a1ed31-ea80-46a6-9a33-53e4ba1ac6a6",
   "metadata": {},
   "outputs": [
    {
     "data": {
      "image/png": "[encoded data removed]",
      "text/plain": [
       "<Figure size 640x480 with 1 Axes>"
      ]
     },
     "metadata": {},
     "output_type": "display_data"
    }
   ],
   "source": [
    "# Create a boxplot of the measured SWE for each day of collection\n",
    "# These boxplots are based on the 10 - 15 manual points of SWE measurements\n",
    "# taken in the meadow site\n",
    "measure_plt = sns.boxplot(data=swe_data_df, x=\"date_label\", y=\"SWE (m)\", palette = \"winter_r\" ).set(title = 'Manual SWE Measurements by Date')\n",
    "\n",
    "# This plot shows an increase in measured SWE as the year progresses. \n",
    "# Additionally, the variability in SWE for points is greater earlier in the season \n",
    "# (unil April 07) and then the measured SWE have a much smaller spread. \n",
    "# Peak mean SWE is reached on May 10 2022 based on manual measurements\n",
    "# As we see, SWE varies a lot less across time than density does"
   ]
  },
  {
   "cell_type": "code",
   "execution_count": 21,
   "id": "78fe96ab-6b3e-40ec-a623-238bce5aa4cb",
   "metadata": {},
   "outputs": [
    {
     "data": {
      "text/html": [
       "<div>\n",
       "<style scoped>\n",
       "    .dataframe tbody tr th:only-of-type {\n",
       "        vertical-align: middle;\n",
       "    }\n",
       "\n",
       "    .dataframe tbody tr th {\n",
       "        vertical-align: top;\n",
       "    }\n",
       "\n",
       "    .dataframe thead th {\n",
       "        text-align: right;\n",
       "    }\n",
       "</style>\n",
       "<table border=\"1\" class=\"dataframe\">\n",
       "  <thead>\n",
       "    <tr style=\"text-align: right;\">\n",
       "      <th></th>\n",
       "      <th>date_label</th>\n",
       "      <th>variable</th>\n",
       "      <th>value</th>\n",
       "    </tr>\n",
       "  </thead>\n",
       "  <tbody>\n",
       "    <tr>\n",
       "      <th>0</th>\n",
       "      <td>Feb 12</td>\n",
       "      <td>SWE (m)</td>\n",
       "      <td>0.42</td>\n",
       "    </tr>\n",
       "    <tr>\n",
       "      <th>1</th>\n",
       "      <td>Feb 12</td>\n",
       "      <td>SWE (m)</td>\n",
       "      <td>0.40</td>\n",
       "    </tr>\n",
       "    <tr>\n",
       "      <th>2</th>\n",
       "      <td>Feb 12</td>\n",
       "      <td>SWE (m)</td>\n",
       "      <td>0.26</td>\n",
       "    </tr>\n",
       "    <tr>\n",
       "      <th>3</th>\n",
       "      <td>Feb 12</td>\n",
       "      <td>SWE (m)</td>\n",
       "      <td>0.38</td>\n",
       "    </tr>\n",
       "    <tr>\n",
       "      <th>4</th>\n",
       "      <td>Feb 12</td>\n",
       "      <td>SWE (m)</td>\n",
       "      <td>0.40</td>\n",
       "    </tr>\n",
       "  </tbody>\n",
       "</table>\n",
       "</div>"
      ],
      "text/plain": [
       "  date_label variable  value\n",
       "0     Feb 12  SWE (m)   0.42\n",
       "1     Feb 12  SWE (m)   0.40\n",
       "2     Feb 12  SWE (m)   0.26\n",
       "3     Feb 12  SWE (m)   0.38\n",
       "4     Feb 12  SWE (m)   0.40"
      ]
     },
     "execution_count": 21,
     "metadata": {},
     "output_type": "execute_result"
    }
   ],
   "source": [
    "# Manipulate the data so that all the swe values are stored in one column \n",
    "# as well as the model type used to calculate the SWE value\n",
    "df = pd.melt(swe_data_df,id_vars = ['date_label'],value_vars = ['SWE (m)','manual_SWE','snotel_SWE','deltasnow_SWE'])\n",
    "df.head()"
   ]
  },
  {
   "cell_type": "code",
   "execution_count": 22,
   "id": "9b3a6bfc-87ef-4d3c-8d07-37640b6ff939",
   "metadata": {},
   "outputs": [
    {
     "data": {
      "text/html": [
       "<div>\n",
       "<style scoped>\n",
       "    .dataframe tbody tr th:only-of-type {\n",
       "        vertical-align: middle;\n",
       "    }\n",
       "\n",
       "    .dataframe tbody tr th {\n",
       "        vertical-align: top;\n",
       "    }\n",
       "\n",
       "    .dataframe thead th {\n",
       "        text-align: right;\n",
       "    }\n",
       "</style>\n",
       "<table border=\"1\" class=\"dataframe\">\n",
       "  <thead>\n",
       "    <tr style=\"text-align: right;\">\n",
       "      <th></th>\n",
       "      <th>date</th>\n",
       "      <th>model</th>\n",
       "      <th>swe</th>\n",
       "    </tr>\n",
       "  </thead>\n",
       "  <tbody>\n",
       "    <tr>\n",
       "      <th>0</th>\n",
       "      <td>Feb 12</td>\n",
       "      <td>SWE (m)</td>\n",
       "      <td>0.42</td>\n",
       "    </tr>\n",
       "    <tr>\n",
       "      <th>1</th>\n",
       "      <td>Feb 12</td>\n",
       "      <td>SWE (m)</td>\n",
       "      <td>0.40</td>\n",
       "    </tr>\n",
       "    <tr>\n",
       "      <th>2</th>\n",
       "      <td>Feb 12</td>\n",
       "      <td>SWE (m)</td>\n",
       "      <td>0.26</td>\n",
       "    </tr>\n",
       "    <tr>\n",
       "      <th>3</th>\n",
       "      <td>Feb 12</td>\n",
       "      <td>SWE (m)</td>\n",
       "      <td>0.38</td>\n",
       "    </tr>\n",
       "    <tr>\n",
       "      <th>4</th>\n",
       "      <td>Feb 12</td>\n",
       "      <td>SWE (m)</td>\n",
       "      <td>0.40</td>\n",
       "    </tr>\n",
       "  </tbody>\n",
       "</table>\n",
       "</div>"
      ],
      "text/plain": [
       "     date    model   swe\n",
       "0  Feb 12  SWE (m)  0.42\n",
       "1  Feb 12  SWE (m)  0.40\n",
       "2  Feb 12  SWE (m)  0.26\n",
       "3  Feb 12  SWE (m)  0.38\n",
       "4  Feb 12  SWE (m)  0.40"
      ]
     },
     "execution_count": 22,
     "metadata": {},
     "output_type": "execute_result"
    }
   ],
   "source": [
    "# Rename the columns of the melted dataframe\n",
    "df.columns = ['date','model','swe']\n",
    "# Make sure the dataframe has been updated\n",
    "df.head()"
   ]
  },
  {
   "cell_type": "code",
   "execution_count": 24,
   "id": "269aa5d0-c9d6-4607-a5e0-af52646db5d6",
   "metadata": {},
   "outputs": [],
   "source": [
    "# Create a subset only with the modeled data, not with the manual SWE measurements\n",
    "modeled_df = pd.melt(swe_data_df,id_vars = ['date_label'],value_vars = ['snotel_SWE','deltasnow_SWE','manual_SWE'])\n",
    "modeled_df.columns = ['date','model','swe']"
   ]
  },
  {
   "cell_type": "code",
   "execution_count": 25,
   "id": "36160d59-9900-40ed-bab4-e6b2a7dce0ff",
   "metadata": {},
   "outputs": [
    {
     "data": {
      "text/plain": [
       "<Axes: xlabel='date', ylabel='swe'>"
      ]
     },
     "execution_count": 25,
     "metadata": {},
     "output_type": "execute_result"
    },
    {
     "data": {
      "image/png": "[encoded data removed]",
      "text/plain": [
       "<Figure size 640x480 with 1 Axes>"
      ]
     },
     "metadata": {},
     "output_type": "display_data"
    }
   ],
   "source": [
    "# Create a representation on how the validation points, and modeled SWE values changes over time\n",
    "sns.boxplot(data=df, x=\"date\", y=\"swe\", hue=\"model\", palette = \"winter_r\" )"
   ]
  },
  {
   "cell_type": "code",
   "execution_count": 27,
   "id": "287e129f-cf0c-4e37-ab0b-4ddf2cc52a24",
   "metadata": {},
   "outputs": [
    {
     "data": {
      "text/plain": [
       "<Axes: xlabel='model', ylabel='swe'>"
      ]
     },
     "execution_count": 27,
     "metadata": {},
     "output_type": "execute_result"
    },
    {
     "data": {
      "image/png": "[encoded data removed]",
      "text/plain": [
       "<Figure size 640x480 with 1 Axes>"
      ]
     },
     "metadata": {},
     "output_type": "display_data"
    }
   ],
   "source": [
    "# Look at the aggregated relationship for validation points and modeled for each day\n",
    "sns.boxplot(data=df, x=\"model\", y=\"swe\", palette = \"winter_r\" )"
   ]
  },
  {
   "cell_type": "code",
   "execution_count": 29,
   "id": "e073e8e0-dd01-4857-8e43-eb24e7097011",
   "metadata": {},
   "outputs": [
    {
     "name": "stdout",
     "output_type": "stream",
     "text": [
      "['Feb 12' 'Apr 07' 'May 05' 'May 10' 'May 17']\n"
     ]
    }
   ],
   "source": [
    "# Create a subset of the above melted dataframe for the data without March included\n",
    "mar_dropped = df[df.date != 'Mar 25']\n",
    "# Print the unique dates from the date column to make sure that March 25 has been removed\n",
    "print(mar_dropped['date'].unique())"
   ]
  },
  {
   "cell_type": "code",
   "execution_count": 30,
   "id": "02532881-8301-4e24-9fce-653aa46e2e6d",
   "metadata": {},
   "outputs": [
    {
     "data": {
      "text/plain": [
       "<Axes: xlabel='date', ylabel='swe'>"
      ]
     },
     "execution_count": 30,
     "metadata": {},
     "output_type": "execute_result"
    },
    {
     "data": {
      "image/png": "[encoded data removed]",
      "text/plain": [
       "<Figure size 640x480 with 1 Axes>"
      ]
     },
     "metadata": {},
     "output_type": "display_data"
    }
   ],
   "source": [
    "# Plot the same relationship but when March 25 has been dropped\n",
    "sns.boxplot(data=mar_dropped, x=\"date\", y=\"swe\", hue=\"model\", palette = \"winter_r\" )"
   ]
  },
  {
   "cell_type": "code",
   "execution_count": 31,
   "id": "afc6266b-5d01-4150-9bca-7d37e0c63ba0",
   "metadata": {},
   "outputs": [
    {
     "data": {
      "text/html": [
       "<div>\n",
       "<style scoped>\n",
       "    .dataframe tbody tr th:only-of-type {\n",
       "        vertical-align: middle;\n",
       "    }\n",
       "\n",
       "    .dataframe tbody tr th {\n",
       "        vertical-align: top;\n",
       "    }\n",
       "\n",
       "    .dataframe thead th {\n",
       "        text-align: right;\n",
       "    }\n",
       "</style>\n",
       "<table border=\"1\" class=\"dataframe\">\n",
       "  <thead>\n",
       "    <tr style=\"text-align: right;\">\n",
       "      <th></th>\n",
       "      <th>date_label</th>\n",
       "      <th>variable</th>\n",
       "      <th>value</th>\n",
       "    </tr>\n",
       "  </thead>\n",
       "  <tbody>\n",
       "    <tr>\n",
       "      <th>0</th>\n",
       "      <td>Feb 12</td>\n",
       "      <td>Manual Diff</td>\n",
       "      <td>NaN</td>\n",
       "    </tr>\n",
       "    <tr>\n",
       "      <th>1</th>\n",
       "      <td>Feb 12</td>\n",
       "      <td>Manual Diff</td>\n",
       "      <td>-0.123916</td>\n",
       "    </tr>\n",
       "    <tr>\n",
       "      <th>2</th>\n",
       "      <td>Feb 12</td>\n",
       "      <td>Manual Diff</td>\n",
       "      <td>0.001143</td>\n",
       "    </tr>\n",
       "    <tr>\n",
       "      <th>3</th>\n",
       "      <td>Feb 12</td>\n",
       "      <td>Manual Diff</td>\n",
       "      <td>-0.004473</td>\n",
       "    </tr>\n",
       "    <tr>\n",
       "      <th>4</th>\n",
       "      <td>Feb 12</td>\n",
       "      <td>Manual Diff</td>\n",
       "      <td>-0.246851</td>\n",
       "    </tr>\n",
       "  </tbody>\n",
       "</table>\n",
       "</div>"
      ],
      "text/plain": [
       "  date_label     variable     value\n",
       "0     Feb 12  Manual Diff       NaN\n",
       "1     Feb 12  Manual Diff -0.123916\n",
       "2     Feb 12  Manual Diff  0.001143\n",
       "3     Feb 12  Manual Diff -0.004473\n",
       "4     Feb 12  Manual Diff -0.246851"
      ]
     },
     "execution_count": 31,
     "metadata": {},
     "output_type": "execute_result"
    }
   ],
   "source": [
    "# Create a new dataframe that contains the difference values between the modeled\n",
    "# and measured SWE\n",
    "diff_df = pd.melt(swe_data_df,id_vars = ['date_label'],value_vars = ['Manual Diff','SNOTEL Diff',r'$\\Delta$SNOW Diff'])\n",
    "diff_df.head()"
   ]
  },
  {
   "cell_type": "code",
   "execution_count": 32,
   "id": "081529a5-b41b-4798-a870-5a006b2b318b",
   "metadata": {},
   "outputs": [
    {
     "data": {
      "text/html": [
       "<div>\n",
       "<style scoped>\n",
       "    .dataframe tbody tr th:only-of-type {\n",
       "        vertical-align: middle;\n",
       "    }\n",
       "\n",
       "    .dataframe tbody tr th {\n",
       "        vertical-align: top;\n",
       "    }\n",
       "\n",
       "    .dataframe thead th {\n",
       "        text-align: right;\n",
       "    }\n",
       "</style>\n",
       "<table border=\"1\" class=\"dataframe\">\n",
       "  <thead>\n",
       "    <tr style=\"text-align: right;\">\n",
       "      <th></th>\n",
       "      <th>date</th>\n",
       "      <th>model</th>\n",
       "      <th>swe_diff</th>\n",
       "    </tr>\n",
       "  </thead>\n",
       "  <tbody>\n",
       "    <tr>\n",
       "      <th>0</th>\n",
       "      <td>Feb 12</td>\n",
       "      <td>Manual Diff</td>\n",
       "      <td>NaN</td>\n",
       "    </tr>\n",
       "    <tr>\n",
       "      <th>1</th>\n",
       "      <td>Feb 12</td>\n",
       "      <td>Manual Diff</td>\n",
       "      <td>-0.123916</td>\n",
       "    </tr>\n",
       "    <tr>\n",
       "      <th>2</th>\n",
       "      <td>Feb 12</td>\n",
       "      <td>Manual Diff</td>\n",
       "      <td>0.001143</td>\n",
       "    </tr>\n",
       "    <tr>\n",
       "      <th>3</th>\n",
       "      <td>Feb 12</td>\n",
       "      <td>Manual Diff</td>\n",
       "      <td>-0.004473</td>\n",
       "    </tr>\n",
       "    <tr>\n",
       "      <th>4</th>\n",
       "      <td>Feb 12</td>\n",
       "      <td>Manual Diff</td>\n",
       "      <td>-0.246851</td>\n",
       "    </tr>\n",
       "  </tbody>\n",
       "</table>\n",
       "</div>"
      ],
      "text/plain": [
       "     date        model  swe_diff\n",
       "0  Feb 12  Manual Diff       NaN\n",
       "1  Feb 12  Manual Diff -0.123916\n",
       "2  Feb 12  Manual Diff  0.001143\n",
       "3  Feb 12  Manual Diff -0.004473\n",
       "4  Feb 12  Manual Diff -0.246851"
      ]
     },
     "execution_count": 32,
     "metadata": {},
     "output_type": "execute_result"
    }
   ],
   "source": [
    "# Change the diff_df column names\n",
    "diff_df.columns = ['date','model','swe_diff']\n",
    "diff_df.head()"
   ]
  },
  {
   "cell_type": "code",
   "execution_count": 34,
   "id": "abc3f371-4577-49fa-8e3c-c687d548dad5",
   "metadata": {},
   "outputs": [
    {
     "data": {
      "image/png": "[encoded data removed]",
      "text/plain": [
       "<Figure size 640x480 with 1 Axes>"
      ]
     },
     "metadata": {},
     "output_type": "display_data"
    }
   ],
   "source": [
    "# Now visualize the range in difference values for each flight date\n",
    "ax = sns.boxplot(data=diff_df, x=\"date\", y=\"swe_diff\", hue=\"model\", palette = \"viridis\" )\n",
    "plt.ylim(-0.75,0.75)\n",
    "plt.axhline(0, color = 'r')\n",
    "plt.title('Difference in Modeled and Measured SWE (m)')\n",
    "plt.xlabel('Date')\n",
    "plt.ylabel('Difference in SWE (m)')\n",
    "# Save\n",
    "plt.savefig('/Users/f67f911/Desktop/HG2022_Data/Figures/SWE_Compare/Date_SWE_diffs.png')"
   ]
  },
  {
   "cell_type": "code",
   "execution_count": 35,
   "id": "be55aa34-434a-4910-9c32-48635966c6c0",
   "metadata": {},
   "outputs": [],
   "source": [
    "# Create a dataframe for the March data\n",
    "mar = diff_df.loc[diff_df['date'] == 'Mar 25']"
   ]
  },
  {
   "cell_type": "code",
   "execution_count": 36,
   "id": "7a2433fb-6e94-4da7-8ab9-4b2acb1a4dee",
   "metadata": {},
   "outputs": [
    {
     "data": {
      "text/html": [
       "<div>\n",
       "<style scoped>\n",
       "    .dataframe tbody tr th:only-of-type {\n",
       "        vertical-align: middle;\n",
       "    }\n",
       "\n",
       "    .dataframe tbody tr th {\n",
       "        vertical-align: top;\n",
       "    }\n",
       "\n",
       "    .dataframe thead th {\n",
       "        text-align: right;\n",
       "    }\n",
       "</style>\n",
       "<table border=\"1\" class=\"dataframe\">\n",
       "  <thead>\n",
       "    <tr style=\"text-align: right;\">\n",
       "      <th></th>\n",
       "      <th>date</th>\n",
       "      <th>model</th>\n",
       "      <th>swe_diff</th>\n",
       "    </tr>\n",
       "  </thead>\n",
       "  <tbody>\n",
       "    <tr>\n",
       "      <th>0</th>\n",
       "      <td>Feb 12</td>\n",
       "      <td>Manual Diff</td>\n",
       "      <td>NaN</td>\n",
       "    </tr>\n",
       "    <tr>\n",
       "      <th>1</th>\n",
       "      <td>Feb 12</td>\n",
       "      <td>Manual Diff</td>\n",
       "      <td>-0.123916</td>\n",
       "    </tr>\n",
       "    <tr>\n",
       "      <th>2</th>\n",
       "      <td>Feb 12</td>\n",
       "      <td>Manual Diff</td>\n",
       "      <td>0.001143</td>\n",
       "    </tr>\n",
       "    <tr>\n",
       "      <th>3</th>\n",
       "      <td>Feb 12</td>\n",
       "      <td>Manual Diff</td>\n",
       "      <td>-0.004473</td>\n",
       "    </tr>\n",
       "    <tr>\n",
       "      <th>4</th>\n",
       "      <td>Feb 12</td>\n",
       "      <td>Manual Diff</td>\n",
       "      <td>-0.246851</td>\n",
       "    </tr>\n",
       "  </tbody>\n",
       "</table>\n",
       "</div>"
      ],
      "text/plain": [
       "     date        model  swe_diff\n",
       "0  Feb 12  Manual Diff       NaN\n",
       "1  Feb 12  Manual Diff -0.123916\n",
       "2  Feb 12  Manual Diff  0.001143\n",
       "3  Feb 12  Manual Diff -0.004473\n",
       "4  Feb 12  Manual Diff -0.246851"
      ]
     },
     "execution_count": 36,
     "metadata": {},
     "output_type": "execute_result"
    }
   ],
   "source": [
    "# Now create a dataframe with March dropped\n",
    "mar_dropped_diff = diff_df[diff_df.date != 'Mar 25']\n",
    "mar_dropped_diff.head()"
   ]
  },
  {
   "cell_type": "code",
   "execution_count": 37,
   "id": "06e74d2d-66fa-4c46-87ef-fe79888dc7cb",
   "metadata": {},
   "outputs": [
    {
     "name": "stdout",
     "output_type": "stream",
     "text": [
      "['Feb 12' 'Apr 07' 'May 05' 'May 10' 'May 17']\n"
     ]
    }
   ],
   "source": [
    "print(mar_dropped_diff['date'].unique())"
   ]
  },
  {
   "cell_type": "code",
   "execution_count": 38,
   "id": "aa4e1c06-fc58-498a-9378-a11fc65b2231",
   "metadata": {},
   "outputs": [
    {
     "data": {
      "image/png": "[encoded data removed]",
      "text/plain": [
       "<Figure size 640x480 with 1 Axes>"
      ]
     },
     "metadata": {},
     "output_type": "display_data"
    }
   ],
   "source": [
    "# View the same distribution as above, now with March dropped from the analysis. \n",
    "graph = sns.boxplot(data=mar_dropped_diff, x=\"date\", y=\"swe_diff\", hue=\"model\", palette = \"viridis\" )\n",
    "graph.axhline(0, color = 'r')\n",
    "# Save\n",
    "plt.savefig('/Users/f67f911/Desktop/HG2022_Data/Figures/SWE_Compare/Date_SWE_diffs_NoMar.png')"
   ]
  },
  {
   "cell_type": "code",
   "execution_count": 39,
   "id": "515abfa5-ba8f-4b1e-b5f9-61169f3c2980",
   "metadata": {},
   "outputs": [
    {
     "data": {
      "image/png": "[encoded data removed]",
      "text/plain": [
       "<Figure size 640x480 with 1 Axes>"
      ]
     },
     "metadata": {},
     "output_type": "display_data"
    }
   ],
   "source": [
    "# View the total difference between modeled and measured SWE for each approach\n",
    "swe_box = sns.boxplot(data=diff_df, x=\"model\", y=\"swe_diff\", palette = 'plasma')\n",
    "swe_box.axhline(0, color = 'r')\n",
    "swe_box.set_title('Differences Between Modeled and Measured SWE (m)')\n",
    "swe_box.set_xlabel('Model')\n",
    "swe_box.set_ylabel('Difference in SWE (m)')\n",
    "# Save\n",
    "plt.savefig('/Users/f67f911/Desktop/HG2022_Data/Figures/SWE_Compare/Total_SWE_diff.png')"
   ]
  },
  {
   "cell_type": "code",
   "execution_count": 41,
   "id": "af4b23b8-f7d0-4943-96b2-094613c61b09",
   "metadata": {},
   "outputs": [
    {
     "data": {
      "image/png": "[encoded data removed]",
      "text/plain": [
       "<Figure size 640x480 with 2 Axes>"
      ]
     },
     "metadata": {},
     "output_type": "display_data"
    }
   ],
   "source": [
    "# Plot the relationship between total modeled versus measured SWE for the combined flight dates with and \n",
    "# without March 25 being removed\n",
    "fig, axs = plt.subplots(1,2, sharey = True, sharex = True, tight_layout = True)\n",
    "fig.suptitle('Modeled vs Measured SWE', fontsize = 14)\n",
    "labels = ['Manual Diff', 'SNOTEL Diff', r'$\\Delta$SNOW Diff']\n",
    "sns.boxplot(data=diff_df, x=\"model\", y=\"swe_diff\", palette = 'plasma', ax = axs[0])\n",
    "axs[0].set_title('All Dates')\n",
    "axs[0].axhline(0, color = 'r')\n",
    "axs[0].set_xlabel('')\n",
    "axs[0].set_xticklabels(labels, size = 10)\n",
    "axs[0].set_ylabel('')\n",
    "sns.boxplot(data=mar_dropped_diff, x=\"model\", y=\"swe_diff\", palette = 'plasma', ax = axs[1])\n",
    "axs[1].set_title('March 25 Removed')\n",
    "axs[1].axhline(0, color = 'r')\n",
    "axs[1].set_xlabel('')\n",
    "axs[1].set_xticklabels(labels, size = 10)\n",
    "axs[1].set_ylabel('')\n",
    "fig.text(0.54, -0.04, 'Model', ha='center', fontsize = 12)\n",
    "fig.text(-0.005, 0.5, 'SWE Difference (m)', va='center', rotation='vertical', fontsize = 12)\n",
    "# Save\n",
    "plt.savefig('/Users/f67f911/Desktop/HG2022_Data/Figures/SWE_Compare/MarCompare.png', bbox_inches = \"tight\")"
   ]
  },
  {
   "cell_type": "markdown",
   "id": "2b24d7b9-4430-4a90-8387-09d95e79acb9",
   "metadata": {},
   "source": [
    "## Run some simple stats on the data"
   ]
  },
  {
   "cell_type": "code",
   "execution_count": 42,
   "id": "e07eaa96-fcc5-49ef-b53e-df7b89d56b1d",
   "metadata": {},
   "outputs": [
    {
     "data": {
      "text/plain": [
       "TtestResult(statistic=-0.43912887064779105, pvalue=0.662873860088085, df=41)"
      ]
     },
     "execution_count": 42,
     "metadata": {},
     "output_type": "execute_result"
    }
   ],
   "source": [
    "stats.ttest_1samp(swe_data_df.dropna()['Manual Diff'], popmean=0.0)"
   ]
  },
  {
   "cell_type": "code",
   "execution_count": 43,
   "id": "11883def-7ecd-49c1-bd06-61d06c1ee04e",
   "metadata": {},
   "outputs": [
    {
     "data": {
      "text/plain": [
       "TtestResult(statistic=0.57752452268035, pvalue=0.5667434200627621, df=41)"
      ]
     },
     "execution_count": 43,
     "metadata": {},
     "output_type": "execute_result"
    }
   ],
   "source": [
    "stats.ttest_1samp(swe_data_df.dropna()['SNOTEL Diff'], popmean=0.0)"
   ]
  },
  {
   "cell_type": "code",
   "execution_count": 44,
   "id": "729eab97-0b20-4d3b-b902-6acacfdc7be9",
   "metadata": {},
   "outputs": [
    {
     "data": {
      "text/plain": [
       "TtestResult(statistic=-0.11984854255437022, pvalue=0.9051884897793974, df=41)"
      ]
     },
     "execution_count": 44,
     "metadata": {},
     "output_type": "execute_result"
    }
   ],
   "source": [
    "stats.ttest_1samp(swe_data_df.dropna()[r'$\\Delta$SNOW Diff'], popmean=0.0)"
   ]
  }
 ],
 "metadata": {
  "kernelspec": {
   "display_name": "Python 3 (ipykernel)",
   "language": "python",
   "name": "python3"
  },
  "language_info": {
   "codemirror_mode": {
    "name": "ipython",
    "version": 3
   },
   "file_extension": ".py",
   "mimetype": "text/x-python",
   "name": "python",
   "nbconvert_exporter": "python",
   "pygments_lexer": "ipython3",
   "version": "3.11.3"
  }
 },
 "nbformat": 4,
 "nbformat_minor": 5
}
